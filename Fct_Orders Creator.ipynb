{
 "cells": [
  {
   "cell_type": "markdown",
   "metadata": {},
   "source": [
    "# Fct_Orders Creator"
   ]
  },
  {
   "cell_type": "markdown",
   "metadata": {},
   "source": [
    "The purpose of this Jupyter Notebook is to create the values for Fact Table Orders. Using the Date IDs from Dim_Dates, I used np.random.randint to create the span of time for each iteration of the Orders_Randomizer function. Also, as the overall length of \"time\" the company Pelipper Delivery Service has been active, we add on more towns and regions. We also expand the randomizer for the Number of Orders.\n",
    "\n",
    "All of these pseudo-randomized variables are supposed to simulate scaling the business over time. "
   ]
  },
  {
   "cell_type": "code",
   "execution_count": 57,
   "metadata": {},
   "outputs": [],
   "source": [
    "import pandas as pd\n",
    "import numpy as np\n",
    "\n",
    "# NOTES: We have tried doing this randomization all the way for one year's worth of data, BUT\n",
    "# What ends up happening is that Python's code is TOO EQUAL. The data can't differentiate itself\n",
    "# From each item, month, trainer, etc.\n",
    "\n",
    "# So what we have to do instead if manually randomize values to simulate scaling the business\n",
    "# So that our results are more realistic"
   ]
  },
  {
   "cell_type": "code",
   "execution_count": 58,
   "metadata": {
    "collapsed": true
   },
   "outputs": [],
   "source": [
    "# Alternative Orders_Randomizer\n",
    "\n",
    "# This one will be based on Day 1 = January 1, 2000\n",
    "def Orders_Randomizer(dataframe, num_orders, day_start, day_end):\n",
    "    dataframe = pd.DataFrame(columns=['A'])\n",
    "    dataframe = pd.DataFrame(np.random.randint(1, 28, size=(num_orders, 1)), columns=['item_id'])\n",
    "    dataframe['trainer_id'] = np.random.randint(1, 21, len(dataframe))\n",
    "    dataframe['town_id'] = np.random.randint(1, 11, len(dataframe))\n",
    "    dataframe['flyer_id'] = np.random.randint(1, 51, len(dataframe))\n",
    "    dataframe['date_id'] = np.random.randint(day_start, day_end, len(dataframe))\n",
    "    dataframe['qty'] = np.random.randint(1, 4, len(dataframe))\n",
    "    return dataframe\n"
   ]
  },
  {
   "cell_type": "code",
   "execution_count": 59,
   "metadata": {
    "collapsed": true,
    "scrolled": true
   },
   "outputs": [],
   "source": [
    "# Orders_Randomizer(dataframe, num_orders, day_start, day_end)\n",
    "df1 = Orders_Randomizer(df1, 100, 1, 30)\n",
    "df2 = Orders_Randomizer(df2, 300, 30, 90)\n",
    "df3 = Orders_Randomizer(df3, 550, 90, 180)\n",
    "df4 = Orders_Randomizer(df4, 775, 180, 270)\n",
    "df5 = Orders_Randomizer(df5, 1500, 270, 366)\n",
    "\n",
    "# Concat all Dataframes together\n",
    "dfs = pd.concat([df1, df2, df3, df4, df5], ignore_index=True)\n",
    "dfs.to_csv('Output.csv', index = False)"
   ]
  },
  {
   "cell_type": "code",
   "execution_count": 24,
   "metadata": {
    "collapsed": true
   },
   "outputs": [],
   "source": [
    "# In this Randomizer we have also added a randomizer on number of orders AND a multipler\n",
    "# This should help randomize things even more\n",
    "\n",
    "# Additions:\n",
    "    # More Towns\n",
    "    # Now we have Regions (Kanto, Johto, Hoenn, Sinnoh, Unova)\n",
    "    # Keep same number of flyers\n",
    "    # Keep same number of items\n",
    "    # Keep same price of items\n"
   ]
  },
  {
   "cell_type": "code",
   "execution_count": 80,
   "metadata": {},
   "outputs": [],
   "source": [
    "# This Randomizer is for the Year 2001  \n",
    "def Orders_Randomizer2(dataframe, day_start, day_end, num_orders):\n",
    "    \n",
    "    # Blank dataframe\n",
    "    dataframe = pd.DataFrame(columns=['A'])\n",
    "    \n",
    "    # Run through all the Fct_Orders fields\n",
    "    dataframe = pd.DataFrame(np.random.randint(1, 28, size = (num_orders, 1)), columns=['item_id'])\n",
    "    dataframe['trainer_id'] = np.random.randint(1, 21, len(dataframe))\n",
    "    dataframe['town_id'] = np.random.randint(1, 27, len(dataframe))\n",
    "    dataframe['flyer_id'] = np.random.randint(1, 51, len(dataframe))\n",
    "    dataframe['date_id'] = np.random.randint(day_start, day_end, len(dataframe))\n",
    "    dataframe['qty'] = np.random.randint(1, 4, len(dataframe))\n",
    "    return dataframe\n",
    "\n",
    "# Randomize the number of orders and a multipler\n",
    "orders = np.random.randint(100, 1500)\n",
    "multipler = np.random.randint(1, 6)\n",
    "\n",
    "# Acquire num_orders based on random numbers above\n",
    "num_orders = orders * multipler\n",
    "\n",
    "# Orders_Randomizer2(dataframe, time_start, time_end)\n",
    "df6 = Orders_Randomizer2(df1, 367, 457, num_orders)\n",
    "df7 = Orders_Randomizer2(df1, 457, 548, num_orders)\n",
    "df8 = Orders_Randomizer2(df1, 548, 640, num_orders)\n",
    "df9 = Orders_Randomizer2(df1, 640, 732, num_orders)\n",
    "\n",
    "dfs1 = pd.concat([df6, df7, df8, df9], ignore_index=True)"
   ]
  },
  {
   "cell_type": "code",
   "execution_count": 81,
   "metadata": {},
   "outputs": [],
   "source": [
    "# This Randomizer is for the Year 2002\n",
    "def Orders_Randomizer3(dataframe, day_start, day_end, num_orders):\n",
    "    \n",
    "    # Blank dataframe\n",
    "    dataframe = pd.DataFrame(columns=['A'])\n",
    "    \n",
    "    # Run through all the Fct_Orders fields\n",
    "    dataframe = pd.DataFrame(np.random.randint(1, 28, size = (num_orders, 1)), columns=['item_id'])\n",
    "    dataframe['trainer_id'] = np.random.randint(1, 21, len(dataframe))\n",
    "    dataframe['town_id'] = np.random.randint(1, 37, len(dataframe))\n",
    "    dataframe['flyer_id'] = np.random.randint(1, 51, len(dataframe))\n",
    "    dataframe['date_id'] = np.random.randint(day_start, day_end, len(dataframe))\n",
    "    dataframe['qty'] = np.random.randint(1, 4, len(dataframe))\n",
    "    return dataframe\n",
    "\n",
    "# Randomize the number of orders and a multipler\n",
    "orders = np.random.randint(250, 3000)\n",
    "multipler = np.random.randint(1, 6)\n",
    "\n",
    "# Acquire num_orders based on random numbers above\n",
    "num_orders = orders * multipler\n",
    "\n",
    "# Orders_Randomizer3\n",
    "df6 = Orders_Randomizer3(df1, 732, 822, num_orders)\n",
    "df7 = Orders_Randomizer3(df1, 822, 913, num_orders)\n",
    "df8 = Orders_Randomizer3(df1, 913, 1005, num_orders)\n",
    "df9 = Orders_Randomizer3(df1, 1005, 1097, num_orders)\n",
    "\n",
    "dfs2 = pd.concat([df6, df7, df8, df9], ignore_index=True)"
   ]
  },
  {
   "cell_type": "code",
   "execution_count": 82,
   "metadata": {
    "collapsed": true
   },
   "outputs": [],
   "source": [
    "# This Randomizer is for the Year 2003\n",
    "def Orders_Randomizer4(dataframe, day_start, day_end, num_orders):\n",
    "    \n",
    "    # Blank dataframe\n",
    "    dataframe = pd.DataFrame(columns=['A'])\n",
    "    \n",
    "    # Run through all the Fct_Orders fields\n",
    "    dataframe = pd.DataFrame(np.random.randint(1, 28, size=(num_orders, 1)), columns=['item_id'])\n",
    "    dataframe['trainer_id'] = np.random.randint(1, 21, len(dataframe))\n",
    "    dataframe['town_id'] = np.random.randint(1, 51, len(dataframe))\n",
    "    dataframe['flyer_id'] = np.random.randint(1, 51, len(dataframe))\n",
    "    dataframe['date_id'] = np.random.randint(day_start, day_end, len(dataframe))\n",
    "    dataframe['qty'] = np.random.randint(1, 4, len(dataframe))\n",
    "    return dataframe\n",
    "\n",
    "# Randomize the number of orders and a multipler\n",
    "orders = np.random.randint(400, 4200)\n",
    "multipler = np.random.randint(2, 6)\n",
    "\n",
    "# Acquire num_orders based on random numbers above\n",
    "num_orders = orders * multipler\n",
    "\n",
    "# Orders_Randomizer4\n",
    "df6 = Orders_Randomizer4(df1, 1097, 1187, num_orders)\n",
    "df7 = Orders_Randomizer4(df1, 1187, 1278, num_orders)\n",
    "df8 = Orders_Randomizer4(df1, 1278, 1370, num_orders)\n",
    "df9 = Orders_Randomizer4(df1, 1370, 1462, num_orders)\n",
    "\n",
    "dfs3 = pd.concat([df6, df7, df8, df9], ignore_index=True)"
   ]
  },
  {
   "cell_type": "code",
   "execution_count": 83,
   "metadata": {
    "collapsed": true
   },
   "outputs": [],
   "source": [
    "# This Randomizer is for the Year 2004\n",
    "def Orders_Randomizer5(dataframe, day_start, day_end, num_orders):\n",
    "    \n",
    "    # Blank dataframe\n",
    "    dataframe = pd.DataFrame(columns=['A'])\n",
    "    \n",
    "    # Run through all the Fct_Orders fields\n",
    "    dataframe = pd.DataFrame(np.random.randint(1, 28, size=(num_orders, 1)), columns=['item_id'])\n",
    "    dataframe['trainer_id'] = np.random.randint(1, 21, len(dataframe))\n",
    "    dataframe['town_id'] = np.random.randint(1, 71, len(dataframe))\n",
    "    dataframe['flyer_id'] = np.random.randint(1, 51, len(dataframe))\n",
    "    dataframe['date_id'] = np.random.randint(day_start, day_end, len(dataframe))\n",
    "    dataframe['qty'] = np.random.randint(1, 4, len(dataframe))\n",
    "    return dataframe\n",
    "\n",
    "# Randomize the number of orders and a multipler\n",
    "orders = np.random.randint(600, 5000)\n",
    "multipler = np.random.randint(4, 8)\n",
    "\n",
    "# Acquire num_orders based on random numbers above\n",
    "num_orders = orders * multipler\n",
    "\n",
    "# Orders_Randomizer5\n",
    "df6 = Orders_Randomizer5(df1, 1462, 1553, num_orders)\n",
    "df7 = Orders_Randomizer5(df1, 1553, 1644, num_orders)\n",
    "df8 = Orders_Randomizer5(df1, 1644, 1736, num_orders)\n",
    "df9 = Orders_Randomizer5(df1, 1736, 1828, num_orders)\n",
    "\n",
    "dfs4 = pd.concat([df6, df7, df8, df9], ignore_index=True)\n",
    "\n",
    "# Big Concat all of the smaller concats\n",
    "bigdfs = pd.concat([dfs1, dfs2, dfs3, dfs4], ignore_index = True)\n",
    "\n",
    "bigdfs.to_csv('PDS2.csv', index = False)"
   ]
  }
 ],
 "metadata": {
  "kernelspec": {
   "display_name": "Python 3",
   "language": "python",
   "name": "python3"
  },
  "language_info": {
   "codemirror_mode": {
    "name": "ipython",
    "version": 3
   },
   "file_extension": ".py",
   "mimetype": "text/x-python",
   "name": "python",
   "nbconvert_exporter": "python",
   "pygments_lexer": "ipython3",
   "version": "3.6.2"
  }
 },
 "nbformat": 4,
 "nbformat_minor": 2
}
